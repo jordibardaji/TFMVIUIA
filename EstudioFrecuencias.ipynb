{
 "cells": [
  {
   "cell_type": "code",
   "execution_count": 2,
   "metadata": {
    "scrolled": true
   },
   "outputs": [],
   "source": [
    "# some other statements  with the help of cursor\n",
    "\n",
    "importar =\"LOAD DATA INFILE '/home/jordi/Documents/MasterIAVIU/TFM/datasets/rmsk4.txt' INTO TABLE rmsk FIELDS TERMINATED BY '\\t' ENCLOSED BY '' LINES TERMINATED BY '\\n';\"\n",
    "importar =\"LOAD DATA INFILE './rmsk4.txt' INTO TABLE rmsk FIELDS TERMINATED BY '\\t' ENCLOSED BY '' LINES TERMINATED BY '\\n';\"\n",
    "\n",
    "cursor.execute(importar)\n",
    "\n",
    "connection.close()"
   ]
  },
  {
   "cell_type": "code",
   "execution_count": 10,
   "metadata": {},
   "outputs": [
    {
     "name": "stdout",
     "output_type": "stream",
     "text": [
      "Requirement already satisfied: pymysql in /home/jordi/anaconda3/lib/python3.7/site-packages (1.0.2)\r\n"
     ]
    }
   ],
   "source": [
    "!pip3 install pymysql\n",
    "import pymysql\n",
    "\n",
    "#database connection\n",
    "connection = pymysql.connect(host=\"localhost\",user=\"jordi\",passwd=\"ar1ti3fi3cial31\",database=\"dna\", local_infile = 1 )\n",
    "cursor = connection.cursor()"
   ]
  },
  {
   "cell_type": "code",
   "execution_count": 1,
   "metadata": {},
   "outputs": [],
   "source": [
    "ALusEnCromosomas= \"SELECT * FROM `rmsk` WHERE repFamily = 'Alu' AND (genoname = 'chr1' OR genoname = 'chr2' OR genoname = 'chr3' OR genoname = 'chr4' OR genoname = 'chr5' OR genoname = 'chr6' OR genoname = 'chr7' OR genoname = 'chr8'  OR genoname = 'chr9'    OR genoname = 'chr10' OR genoname = 'chr11' OR genoname = 'chr12' OR genoname = 'chr13' OR genoname = 'chr14' OR genoname = 'chr15' OR genoname = 'chr16' OR genoname = 'chr17' OR genoname = 'chr18' OR genoname = 'chr19' OR genoname = 'chr20'  OR genoname = 'chr21' OR genoname = 'chr22'  OR genoname = 'chrX'  OR genoname = 'chrY')\""
   ]
  },
  {
   "cell_type": "code",
   "execution_count": 2,
   "metadata": {},
   "outputs": [],
   "source": [
    "intoFile= \" INTO OUTFILE '/home/jordi/Documents/MasterIAVIU/TFM/datasets/rmskch1-22XY.txt' FIELDS TERMINATED BY ',' ENCLOSED BY '\\\"' LINES TERMINATED BY '\\r\\n';\""
   ]
  },
  {
   "cell_type": "code",
   "execution_count": 3,
   "metadata": {},
   "outputs": [
    {
     "name": "stdout",
     "output_type": "stream",
     "text": [
      "SELECT * FROM `rmsk` WHERE repFamily = 'Alu' AND (genoname = 'chr1' OR genoname = 'chr2' OR genoname = 'chr3' OR genoname = 'chr4' OR genoname = 'chr5' OR genoname = 'chr6' OR genoname = 'chr7' OR genoname = 'chr8'  OR genoname = 'chr9'    OR genoname = 'chr10' OR genoname = 'chr11' OR genoname = 'chr12' OR genoname = 'chr13' OR genoname = 'chr14' OR genoname = 'chr15' OR genoname = 'chr16' OR genoname = 'chr17' OR genoname = 'chr18' OR genoname = 'chr19' OR genoname = 'chr20'  OR genoname = 'chr21' OR genoname = 'chr22'  OR genoname = 'chrX'  OR genoname = 'chrY') INTO OUTFILE '/home/jordi/Documents/MasterIAVIU/TFM/datasets/rmskch1-22XY.txt' FIELDS TERMINATED BY ',' ENCLOSED BY '\"' LINES TERMINATED BY '\r\n",
      "';\n"
     ]
    }
   ],
   "source": [
    "print(ALusEnCromosomas+ intoFile)"
   ]
  },
  {
   "cell_type": "code",
   "execution_count": 7,
   "metadata": {},
   "outputs": [],
   "source": [
    "import pymysql\n",
    "\n",
    "#database connection\n",
    "connection = pymysql.connect(host=\"localhost\",user=\"jordi\",passwd=\"ar1ti3fi3cial31\",database=\"dna\", local_infile = 1 )\n",
    "cursor = connection.cursor()"
   ]
  },
  {
   "cell_type": "code",
   "execution_count": 9,
   "metadata": {},
   "outputs": [],
   "source": [
    "cursor.execute(ALusEnCromosomas+ intoFile)\n",
    "connection.close()"
   ]
  },
  {
   "cell_type": "markdown",
   "metadata": {},
   "source": [
    "MaxLong - longitud de la Alu más larga"
   ]
  },
  {
   "cell_type": "code",
   "execution_count": null,
   "metadata": {},
   "outputs": [],
   "source": [
    "SeachMaxLong=\"SELECT MAX(genoEnd-genoStart) as MaxLong FROM `rmsk` WHERE repFamily = 'Alu' AND (genoname = 'chr1' OR genoname = 'chr2' OR genoname = 'chr3' OR genoname = 'chr4' OR genoname = 'chr5' OR genoname = 'chr6' OR genoname = 'chr7' OR genoname = 'chr8'  OR genoname = 'chr9'    OR genoname = 'chr10' OR genoname = 'chr11' OR genoname = 'chr12' OR genoname = 'chr13' OR genoname = 'chr14' OR genoname = 'chr15' OR genoname = 'chr16' OR genoname = 'chr17' OR genoname = 'chr18' OR genoname = 'chr19' OR genoname = 'chr20'  OR genoname = 'chr21' OR genoname = 'chr22'  OR genoname = 'chrX'  OR genoname = 'chrY')\""
   ]
  },
  {
   "cell_type": "markdown",
   "metadata": {},
   "source": [
    "## Obtenció coordenades Alus de longitud"
   ]
  },
  {
   "cell_type": "code",
   "execution_count": null,
   "metadata": {},
   "outputs": [],
   "source": [
    "Select NumSec, genoName, repName, genoStart, genoEnd from `rmskAlusChr_1_22XY` where ABS(genoEnd -genoStart) = :longitud"
   ]
  }
 ],
 "metadata": {
  "kernelspec": {
   "display_name": "Python 3",
   "language": "python",
   "name": "python3"
  },
  "language_info": {
   "codemirror_mode": {
    "name": "ipython",
    "version": 3
   },
   "file_extension": ".py",
   "mimetype": "text/x-python",
   "name": "python",
   "nbconvert_exporter": "python",
   "pygments_lexer": "ipython3",
   "version": "3.7.7"
  }
 },
 "nbformat": 4,
 "nbformat_minor": 4
}
