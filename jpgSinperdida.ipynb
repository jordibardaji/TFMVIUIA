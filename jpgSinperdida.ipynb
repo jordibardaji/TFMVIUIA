{
 "cells": [
  {
   "cell_type": "code",
   "execution_count": 13,
   "id": "fb63d9e6",
   "metadata": {},
   "outputs": [
    {
     "data": {
      "text/plain": [
       "array([[  0,   0, 255, ..., 255, 125, 255],\n",
       "       [  0, 255,   0, ..., 255,   0,   0],\n",
       "       [  0, 255,  60, ...,   0,  60, 255],\n",
       "       ...,\n",
       "       [255, 255, 125, ..., 255,   0, 255],\n",
       "       [125,  60, 255, ..., 255,  60,   0],\n",
       "       [ 60,   0, 125, ...,  60,  60,  60]], dtype=uint8)"
      ]
     },
     "metadata": {},
     "output_type": "display_data"
    },
    {
     "data": {
      "image/png": "[encoded data removed]",
      "text/plain": [
       "<PIL.Image.Image image mode=L size=40x40 at 0x7FDB3C1EBE50>"
      ]
     },
     "metadata": {},
     "output_type": "display_data"
    },
    {
     "name": "stdout",
     "output_type": "stream",
     "text": [
      "(40, 40)\n"
     ]
    }
   ],
   "source": [
    "import os\n",
    "#import pickle\n",
    "import array\n",
    "import pandas as pd\n",
    "import os\n",
    "import numpy as np\n",
    "from PIL import Image\n",
    "\n",
    "def transfunc2(row):\n",
    "    #s = row.sequence\n",
    "    s= row\n",
    "   # news = [float(y) for y in [x.replace('A', '0').replace('C', '0.3').replace('G', '0.7').replace('T', '1') for x in s]]    \n",
    "    news = [float(y) for y in [x.replace('A', '0').replace('C','60').replace('G', '125').replace('T', '255') for x in s]]    \n",
    "    \n",
    "    mat = np.array([news,])\n",
    "\n",
    "    return mat\n",
    "\n",
    "def quitarBases(row, num):\n",
    "    newRow = row[num:len(row)-num]\n",
    "    len(newRow)\n",
    "    return newRow\n",
    "\n",
    "with open('Sinperdida.img','wb') as t, open('prova.txt','r') as S :\n",
    "        Secuencia = S.read()\n",
    "        if 'N' not in Secuencia:\n",
    "            \n",
    "      #   \n",
    "      #  print(rutaFicherosSecuencias+fichero)\n",
    "      #  print(Secuencia)\n",
    "\n",
    "            Secuencia1600 = transfunc2(quitarBases(Secuencia[:-1],14))\n",
    "            #print(\"aa\")\n",
    "            #print(Secuencia1600)\n",
    "\n",
    "\n",
    "                #pickle.dump(SecuenciaNumerica ,t)\n",
    "\n",
    "\n",
    "            pil_im = Image.fromarray(Secuencia1600.astype(np.uint8).reshape((40,40)))\n",
    "   #         pil_im.show()\n",
    "####            pil_im.save(t,compress_level=0) \n",
    "   #         pil_im.save(t,quality=100)\n",
    " #           pil_im.save(t)\n",
    "#            pil_im.load(rutaFicherosTrain+fichero[0:len(fichero)-4]+'.png')\n",
    "            display(Secuencia1600.astype(np.uint8).reshape((40,40)))\n",
    "            display(pil_im)\n",
    "            print(pil_im.size)\n",
    "        \n",
    "            pil_im.show()"
   ]
  }
 ],
 "metadata": {
  "kernelspec": {
   "display_name": "Python 3 (ipykernel)",
   "language": "python",
   "name": "python3"
  },
  "language_info": {
   "codemirror_mode": {
    "name": "ipython",
    "version": 3
   },
   "file_extension": ".py",
   "mimetype": "text/x-python",
   "name": "python",
   "nbconvert_exporter": "python",
   "pygments_lexer": "ipython3",
   "version": "3.8.10"
  }
 },
 "nbformat": 4,
 "nbformat_minor": 5
}
