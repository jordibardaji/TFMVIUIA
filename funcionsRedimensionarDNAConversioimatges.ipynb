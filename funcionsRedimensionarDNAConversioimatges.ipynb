{
 "cells": [
  {
   "cell_type": "code",
   "execution_count": 7,
   "id": "f223c84e",
   "metadata": {},
   "outputs": [],
   "source": [
    "# Obtenemos listado de ficheros de secuencias ya pasadas letras a numérico\n",
    "\n",
    "import pandas as pd\n",
    "import os\n",
    "import numpy as np\n",
    "pathTrain= os.path.join('.','Train')\n",
    "\n",
    "imlist = os.listdir(pathTrain)"
   ]
  },
  {
   "cell_type": "code",
   "execution_count": 2,
   "id": "bf0dfb98",
   "metadata": {},
   "outputs": [
    {
     "name": "stdout",
     "output_type": "stream",
     "text": [
      "Collecting torch\n",
      "  Downloading torch-1.9.1-cp38-cp38-manylinux1_x86_64.whl (831.4 MB)\n",
      "\u001b[K     |████████████████████████████████| 831.4 MB 21 kB/s s eta 0:00:014\n",
      "\u001b[?25hRequirement already satisfied: typing-extensions in /home/jordi/.local/lib/python3.8/site-packages (from torch) (3.7.4.3)\n",
      "Installing collected packages: torch\n",
      "Successfully installed torch-1.9.1\n"
     ]
    }
   ],
   "source": [
    "!pip install torch"
   ]
  },
  {
   "cell_type": "code",
   "execution_count": 2,
   "id": "1e6e7afb",
   "metadata": {},
   "outputs": [],
   "source": [
    "import pandas as pd\n",
    "import numpy as np\n",
    "import matplotlib.pyplot as plt\n",
    "#import seaborn as sns\n",
    "import torch\n",
    "device = \"cudo:0\" if torch.cuda.is_available() else \"cpu\"\n",
    "from PIL import Image\n",
    "import numpy as np\n"
   ]
  },
  {
   "cell_type": "code",
   "execution_count": 4,
   "id": "a7de34fd",
   "metadata": {},
   "outputs": [
    {
     "name": "stdout",
     "output_type": "stream",
     "text": [
      "cudo:0\n"
     ]
    }
   ],
   "source": [
    "print(device)"
   ]
  },
  {
   "cell_type": "code",
   "execution_count": 3,
   "id": "d98d7434",
   "metadata": {},
   "outputs": [
    {
     "name": "stdout",
     "output_type": "stream",
     "text": [
      "AATGCTTTTTTTTAGAAATCACTATACTTCTTTGTTAGGTTACTTAATTTTTAGCATAAACCCACCAAATCCCATGTCAATTGTTAAAAATGGATCTATTCAAGCCTACAGTATAAATTTATGGTTTCCCAGGAAATCACAGGAAAGTTGTTGTAAAAGGTATTAAAATTATTGCCAATAAATCCCATGTTTAAAAATATTCTATTAAATGTAAATGTTGAAAGTAGTATTAATAACAGCTATGTTCAAAGAAAACTTTAAGGGCAAACATAAAACAATTTACTTGGAAGGCCATATTACAAGATTCAAAGATTTGCTAGATTCTTTGAACAGGTTTCGATGGGAGATGATGATCTTGTGATCTGTAGATAAGAGACTCTGAATATCAAGTGATCAGAAACCAAAGCAGAGATAAGGCTACTGAAAATAGCCTATTTCCTGTGCTGGTCTGGACCTAGGCTTTGGGGTATAGGCAGGCCTGATACCAGAAGTCCGATGTAGCAAAAGGAATGAAGGAAAAAGATGAAGAGACAAAAACATGCTGACACTGTCATTATTTCTACAAATGTCAAAATAAAATTCAAAATGAAATCGATTTTTTAATTATAAAAATTCTTCTGAGAATTGTTTATTTTCCCCTCCAGACATAAGTAAACTTAAGGCAAGGAATCATATTTACCTTCTGATATGCTTCACATAGAATTTGCCACTTTTTATCAGCAATATTAAAAATGATTATGTGATGAATAGCTTTCAGTCTATACGCCCTGAGAGCAGGCAAGAAAAATTATTCAAAAAAACAAAATGCTTCTCACTATTAACCAAAAAACAGCCTATGAAAAGGCACAGTCAAATGATCTTGGTCAACAAGGCTAAGGCACCCATTCATTATTTATTGAGGGCTTATTGGGTATAAGGACATCTAAGAATTATTCAACGTCAAGTGTTGTGGGCCAAAAGCCACAAGAGAAAAGGATTTTCACTTCCAAGTCCAGCCTAATAGTTCCAATCTTGGAAAGAACGAGAGAAATAACAGAGGAAGAGAAAAGAAAGAGAAACTTGGAGGAGGAACAAATAAACAGCAGACATGTTGTTACTGGAGAAGACAAAAAATGCAGTGAGAAGATAGAGACGTAAGAACCGCGCAGGTACATGCATGTATGCATGTGTGTGCATGTGTATGCATGTGAGTGTGTGTGTGCATGAGTGTGTGTGTGTTTGCATGAGTGTGCATGTGAGTGTACGTGTGCAAATCAAGAGACACAAGCACAGGGCTGCGTGTGCAATGCGGCTAGCTGCGTCATGCCTCCGGAAGTACAAAACACCACTATTTATTTATTTACGCCTCTGGAAGTACAAAACAGCACTATTTATCTATTTATGTATTTTGAGACGGAGTCTCGCTTTGTCGCAATCTCAGCTCACTGCAGTGGCGCAATCTCAGCTCACTGCAACCTCCGCCTCCCGGGCTCAAGTGATTCTCCTGCCTCAGCCTCCCAAGTAGCTGGGATTACAGGCGCACACCACCATGCCCAGCTAATTTTTGTATTTTTAGTAGAGACAGGGTTTCACCATGTTGGACAGGATGGTCTTGTTCTCACCTCGTGAGCCGCCTGCCTTGGCCTCCC\n",
      "[[125.   0.   0. ... 125.  60.  60.]]\n"
     ]
    },
    {
     "data": {
      "image/png": "[encoded data removed]",
      "text/plain": [
       "<PIL.Image.Image image mode=L size=40x40 at 0x7F15D7DA3370>"
      ]
     },
     "execution_count": 3,
     "metadata": {},
     "output_type": "execute_result"
    }
   ],
   "source": [
    "def transfunc2(row):\n",
    "    #s = row.sequence\n",
    "    s= row\n",
    "   # news = [float(y) for y in [x.replace('A', '0').replace('C', '0.3').replace('G', '0.7').replace('T', '1') for x in s]]    \n",
    "    news = [float(y) for y in [x.replace('A', '0').replace('C','60').replace('G', '125').replace('T', '255') for x in s]]    \n",
    "    \n",
    "    mat = np.array([news,])\n",
    "\n",
    "    return mat\n",
    "\n",
    "def quitarBases(row, num):\n",
    "    newRow = row[num:len(row)-num]\n",
    "    len(newRow)\n",
    "    return newRow\n",
    "\n",
    "with open('Secuencias'+'/SitiosNoInsercionchr6_28492.txt', 'r') as t:\n",
    "    news= t.read()\n",
    "    print(news)\n",
    "    \n",
    "\n",
    "news2 = transfunc2(quitarBases(news,14))\n",
    "print(news2)\n",
    "pil_im = Image.fromarray(news2.astype(np.uint8))\n",
    "    # pathTrain+'/SitiosNoInsercionchr6_28492.txt','rb') as t:\n",
    "    \n",
    "Image.fromarray(news2.astype(np.uint8).reshape((40,40)))  \n",
    "# Image.fromarray(train.matrix.iloc[0].astype(np.uint8))    \n",
    "#pil_im.show()"
   ]
  }
 ],
 "metadata": {
  "kernelspec": {
   "display_name": "Python 3 (ipykernel)",
   "language": "python",
   "name": "python3"
  },
  "language_info": {
   "codemirror_mode": {
    "name": "ipython",
    "version": 3
   },
   "file_extension": ".py",
   "mimetype": "text/x-python",
   "name": "python",
   "nbconvert_exporter": "python",
   "pygments_lexer": "ipython3",
   "version": "3.8.10"
  }
 },
 "nbformat": 4,
 "nbformat_minor": 5
}
