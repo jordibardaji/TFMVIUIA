{
 "cells": [
  {
   "cell_type": "markdown",
   "metadata": {},
   "source": [
    "# https://biopython.org/wiki/Documentation"
   ]
  },
  {
   "cell_type": "code",
   "execution_count": 1,
   "metadata": {
    "scrolled": true
   },
   "outputs": [
    {
     "name": "stdout",
     "output_type": "stream",
     "text": [
      "Requirement already satisfied: biopython in /home/jordi/anaconda3/lib/python3.7/site-packages (1.77)\r\n",
      "Requirement already satisfied: numpy in /home/jordi/anaconda3/lib/python3.7/site-packages (from biopython) (1.21.2)\r\n"
     ]
    }
   ],
   "source": [
    "!pip install biopython"
   ]
  },
  {
   "cell_type": "code",
   "execution_count": 2,
   "metadata": {},
   "outputs": [],
   "source": [
    "from Bio import SeqIO\n",
    "from Bio.Seq import Seq\n",
    "from Bio.SeqRecord import SeqRecord\n",
    "from collections import defaultdict"
   ]
  },
  {
   "cell_type": "code",
   "execution_count": null,
   "metadata": {},
   "outputs": [],
   "source": [
    "# read names and postions from bed file\n",
    "positions = defaultdict(list)\n",
    "with open('positions.bed') as f:\n",
    "    for line in f:\n",
    "        name, start, stop = line.split()\n",
    "        positions[name].append((int(start), int(stop)))\n",
    "\n",
    "# parse faste file and turn into dictionary\n",
    "records = SeqIO.to_dict(SeqIO.parse(open('sequences.fasta'), 'fasta'))\n",
    "\n",
    "# search for short sequences\n",
    "short_seq_records = []\n",
    "for name in positions:\n",
    "    for (start, stop) in positions[name]:\n",
    "        long_seq_record = records[name]\n",
    "        long_seq = long_seq_record.seq\n",
    "        alphabet = long_seq.alphabet\n",
    "        short_seq = str(long_seq)[start-1:stop]\n",
    "        short_seq_record = SeqRecord(Seq(short_seq, alphabet), id=name, description='')\n",
    "        short_seq_records.append(short_seq_record)\n",
    "\n",
    "# write to file\n",
    "with open('output.fasta', 'w') as f:\n",
    "    SeqIO.write(short_seq_records, f, 'fasta')"
   ]
  }
 ],
 "metadata": {
  "kernelspec": {
   "display_name": "Python 3 (ipykernel)",
   "language": "python",
   "name": "python3"
  },
  "language_info": {
   "codemirror_mode": {
    "name": "ipython",
    "version": 3
   },
   "file_extension": ".py",
   "mimetype": "text/x-python",
   "name": "python",
   "nbconvert_exporter": "python",
   "pygments_lexer": "ipython3",
   "version": "3.7.11"
  }
 },
 "nbformat": 4,
 "nbformat_minor": 4
}
