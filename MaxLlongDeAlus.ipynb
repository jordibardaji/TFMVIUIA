{
 "cells": [
  {
   "cell_type": "markdown",
   "metadata": {},
   "source": [
    "## MaxLong - máxima longitud de Alu - MinLongAlu- mínima longitud Alu"
   ]
  },
  {
   "cell_type": "code",
   "execution_count": null,
   "metadata": {},
   "outputs": [],
   "source": [
    "SELECT MAX(ABS(genoEnd-genoStart)), MIN(ABS(genoEnd-genoStart)) FROM `rmsk` WHERE repFamily ='Alu' AND (genoname = 'chr1' OR genoname = 'chr2' OR genoname = 'chr3' OR genoname = 'chr4' OR genoname = 'chr5' OR genoname = 'chr6' OR genoname = 'chr7' OR genoname = 'chr8'  OR genoname = 'chr9'    OR genoname = 'chr10' OR genoname = 'chr11' OR genoname = 'chr12' OR genoname = 'chr13' OR genoname = 'chr14' OR genoname = 'chr15' OR genoname = 'chr16' OR genoname = 'chr17' OR genoname = 'chr18' OR genoname = 'chr19' OR genoname = 'chr20'  OR genoname = 'chr21' OR genoname = 'chr22'  OR genoname = 'chrX'  OR genoname = 'chrY')"
   ]
  },
  {
   "cell_type": "markdown",
   "metadata": {},
   "source": [
    "# MaxLong = 814"
   ]
  },
  {
   "cell_type": "markdown",
   "metadata": {},
   "source": [
    "## Contando Alus de Igual longitud por cromosoma"
   ]
  },
  {
   "cell_type": "code",
   "execution_count": null,
   "metadata": {},
   "outputs": [],
   "source": [
    "SELECT ABS(genoEnd-genoStart), COUNT(genoName) FROM `rmsk` WHERE repFamily ='Alu' AND (genoname = 'chr1' OR genoname = 'chr2' OR genoname = 'chr3' OR genoname = 'chr4' OR genoname = 'chr5' OR genoname = 'chr6' OR genoname = 'chr7' OR genoname = 'chr8'  OR genoname = 'chr9'    OR genoname = 'chr10' OR genoname = 'chr11' OR genoname = 'chr12' OR genoname = 'chr13' OR genoname = 'chr14' OR genoname = 'chr15' OR genoname = 'chr16' OR genoname = 'chr17' OR genoname = 'chr18' OR genoname = 'chr19' OR genoname = 'chr20'  OR genoname = 'chr21' OR genoname = 'chr22'  OR genoname = 'chrX'  OR genoname = 'chrY') GROUP BY  ABS(genoEnd-genoStart)"
   ]
  },
  {
   "cell_type": "markdown",
   "metadata": {},
   "source": [
    "## En qué cromosoma (genoName) los de la msma longitud."
   ]
  },
  {
   "cell_type": "code",
   "execution_count": null,
   "metadata": {},
   "outputs": [],
   "source": [
    "SELECT ABS(genoEnd-genoStart), genoName, COUNT(genoName) FROM `rmsk` WHERE repFamily ='Alu' AND (genoname = 'chr1' OR genoname = 'chr2' OR genoname = 'chr3' OR genoname = 'chr4' OR genoname = 'chr5' OR genoname = 'chr6' OR genoname = 'chr7' OR genoname = 'chr8'  OR genoname = 'chr9'    OR genoname = 'chr10' OR genoname = 'chr11' OR genoname = 'chr12' OR genoname = 'chr13' OR genoname = 'chr14' OR genoname = 'chr15' OR genoname = 'chr16' OR genoname = 'chr17' OR genoname = 'chr18' OR genoname = 'chr19' OR genoname = 'chr20'  OR genoname = 'chr21' OR genoname = 'chr22'  OR genoname = 'chrX'  OR genoname = 'chrY') GROUP BY  ABS(genoEnd-genoStart), genoName"
   ]
  },
  {
   "cell_type": "markdown",
   "metadata": {},
   "source": [
    "## Coordenadas dónde la longitud de la Alu sea  = :longitud"
   ]
  },
  {
   "cell_type": "code",
   "execution_count": null,
   "metadata": {},
   "outputs": [],
   "source": []
  },
  {
   "cell_type": "code",
   "execution_count": null,
   "metadata": {},
   "outputs": [],
   "source": [
    "Select NumSec, genoName, repName, genoStart, genoEnd from `rmskAlusChr_1_22XY` where ABS(genoEnd -genoStart) = :longitud"
   ]
  }
 ],
 "metadata": {
  "kernelspec": {
   "display_name": "Python 3",
   "language": "python",
   "name": "python3"
  },
  "language_info": {
   "codemirror_mode": {
    "name": "ipython",
    "version": 3
   },
   "file_extension": ".py",
   "mimetype": "text/x-python",
   "name": "python",
   "nbconvert_exporter": "python",
   "pygments_lexer": "ipython3",
   "version": "3.7.7"
  }
 },
 "nbformat": 4,
 "nbformat_minor": 4
}
