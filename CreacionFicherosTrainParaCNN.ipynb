{
 "cells": [
  {
   "cell_type": "markdown",
   "id": "organized-springfield",
   "metadata": {},
   "source": [
    "# Creación de ficheros de secuencias para ser procesados por una CNN\n",
    "* Se ha subtituido las letras por valores numéricos. (A -> 0; C->60; G-> 125 ; T-> 255)\n",
    "* Se ha creado el directorio Train que contiene los ficheros de secuencias."
   ]
  },
  {
   "cell_type": "code",
   "execution_count": 1,
   "id": "written-philip",
   "metadata": {},
   "outputs": [
    {
     "name": "stdout",
     "output_type": "stream",
     "text": [
      "he acabat  2669247\n"
     ]
    }
   ],
   "source": [
    "import os, fnmatch\n",
    "from struct import pack\n",
    "import pickle\n",
    "import array\n",
    "import pandas as pd\n",
    "import os\n",
    "import numpy as np\n",
    "from PIL import Image\n",
    "\n",
    "def transfunc2(row):\n",
    "    #s = row.sequence\n",
    "    s= row\n",
    "   # news = [float(y) for y in [x.replace('A', '0').replace('C', '0.3').replace('G', '0.7').replace('T', '1') for x in s]]    \n",
    "    news = [float(y) for y in [x.replace('A', '0').replace('C','60').replace('G', '125').replace('T', '255') for x in s]]    \n",
    "    \n",
    "    mat = np.array([news,])\n",
    "\n",
    "    return mat\n",
    "\n",
    "def quitarBases(row, num):\n",
    "    newRow = row[num:len(row)-num]\n",
    "    len(newRow)\n",
    "    return newRow\n",
    "\n",
    "\n",
    "parent_dir ='.'\n",
    "rutaFicherosSecuencias = os.path.join(parent_dir,'Secuencias/')\n",
    "rutaFicherosTrain = os.path.join(parent_dir,'Train/')\n",
    "listaFicherosSecuencia = os.listdir(rutaFicherosSecuencias)\n",
    "listaFicherosTxt = fnmatch.filter(listaFicherosSecuencia,'*.txt')\n",
    "\n",
    "for i, fichero in enumerate(listaFicherosTxt):\n",
    "    with open(rutaFicherosTrain+fichero[0:len(fichero)-4]+'.jpg','wb') as t, open(rutaFicherosSecuencias+fichero,'r') as S :\n",
    "        Secuencia = S.read()\n",
    "        if 'N' not in Secuencia:\n",
    "            \n",
    "      #   \n",
    "      #  print(rutaFicherosSecuencias+fichero)\n",
    "      #  print(Secuencia)\n",
    "\n",
    "            Secuencia1600 = transfunc2(quitarBases(Secuencia,14))\n",
    "            #print(\"aa\")\n",
    "            #print(Secuencia1600)\n",
    "\n",
    "\n",
    "                #pickle.dump(SecuenciaNumerica ,t)\n",
    "\n",
    "\n",
    "            pil_im = Image.fromarray(Secuencia1600.astype(np.uint8).reshape((40,40)))\n",
    "   #         pil_im.show()\n",
    "####            pil_im.save(t,compress_level=0) \n",
    "            pil_im.save(t,quality=100)\n",
    "#            pil_im.load(rutaFicherosTrain+fichero[0:len(fichero)-4]+'.png')\n",
    "#            pil_im.show()\n",
    "            \n",
    "    # Image.fromarray(Secuencia1600.astype(np.uint8).reshape((40,40))) \n",
    "       # break\n",
    "print('he acabat ',str(i))"
   ]
  },
  {
   "cell_type": "code",
   "execution_count": null,
   "id": "clinical-guess",
   "metadata": {},
   "outputs": [],
   "source": []
  },
  {
   "cell_type": "code",
   "execution_count": null,
   "id": "romance-blade",
   "metadata": {},
   "outputs": [],
   "source": []
  },
  {
   "cell_type": "code",
   "execution_count": null,
   "id": "possible-nylon",
   "metadata": {},
   "outputs": [],
   "source": []
  }
 ],
 "metadata": {
  "kernelspec": {
   "display_name": "Python 3 (ipykernel)",
   "language": "python",
   "name": "python3"
  },
  "language_info": {
   "codemirror_mode": {
    "name": "ipython",
    "version": 3
   },
   "file_extension": ".py",
   "mimetype": "text/x-python",
   "name": "python",
   "nbconvert_exporter": "python",
   "pygments_lexer": "ipython3",
   "version": "3.8.10"
  }
 },
 "nbformat": 4,
 "nbformat_minor": 5
}
